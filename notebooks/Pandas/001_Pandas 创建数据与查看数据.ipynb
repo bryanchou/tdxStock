{
 "cells": [
  {
   "cell_type": "code",
   "execution_count": 1,
   "metadata": {},
   "outputs": [
    {
     "data": {
      "text/plain": "0    1.0\n1    3.0\n2    5.0\n3    NaN\n4    6.0\n5    8.0\ndtype: float64"
     },
     "execution_count": 1,
     "metadata": {},
     "output_type": "execute_result"
    }
   ],
   "source": [
    "import pandas as pd\n",
    "import numpy as np\n",
    "\n",
    "# 创建 1D 序列\n",
    "s = pd.Series([1, 3, 5, np.nan, 6, 8])\n",
    "s"
   ]
  },
  {
   "cell_type": "code",
   "execution_count": 2,
   "metadata": {},
   "outputs": [
    {
     "data": {
      "text/plain": "DatetimeIndex(['2017-01-01', '2017-01-02', '2017-01-03', '2017-01-04',\n               '2017-01-05', '2017-01-06', '2017-01-07'],\n              dtype='datetime64[ns]', freq='D')"
     },
     "execution_count": 2,
     "metadata": {},
     "output_type": "execute_result"
    }
   ],
   "source": [
    "dates = pd.date_range('20170101', periods=7)\n",
    "dates"
   ]
  },
  {
   "cell_type": "code",
   "execution_count": 3,
   "metadata": {},
   "outputs": [
    {
     "data": {
      "text/html": "<div>\n<style scoped>\n    .dataframe tbody tr th:only-of-type {\n        vertical-align: middle;\n    }\n\n    .dataframe tbody tr th {\n        vertical-align: top;\n    }\n\n    .dataframe thead th {\n        text-align: right;\n    }\n</style>\n<table border=\"1\" class=\"dataframe\">\n  <thead>\n    <tr style=\"text-align: right;\">\n      <th></th>\n      <th>A</th>\n      <th>B</th>\n      <th>C</th>\n      <th>D</th>\n    </tr>\n  </thead>\n  <tbody>\n    <tr>\n      <th>2017-01-01</th>\n      <td>1.389669</td>\n      <td>-0.289750</td>\n      <td>-0.482087</td>\n      <td>0.117522</td>\n    </tr>\n    <tr>\n      <th>2017-01-02</th>\n      <td>0.906099</td>\n      <td>1.147294</td>\n      <td>-1.119660</td>\n      <td>0.365747</td>\n    </tr>\n    <tr>\n      <th>2017-01-03</th>\n      <td>-1.552837</td>\n      <td>-0.725100</td>\n      <td>-0.010343</td>\n      <td>-2.252705</td>\n    </tr>\n    <tr>\n      <th>2017-01-04</th>\n      <td>-1.034722</td>\n      <td>2.837132</td>\n      <td>0.770690</td>\n      <td>0.008662</td>\n    </tr>\n    <tr>\n      <th>2017-01-05</th>\n      <td>-0.591056</td>\n      <td>-1.569515</td>\n      <td>0.205568</td>\n      <td>-0.388648</td>\n    </tr>\n    <tr>\n      <th>2017-01-06</th>\n      <td>-0.232486</td>\n      <td>-0.136549</td>\n      <td>-0.078237</td>\n      <td>0.664034</td>\n    </tr>\n    <tr>\n      <th>2017-01-07</th>\n      <td>0.025262</td>\n      <td>0.706775</td>\n      <td>-0.907876</td>\n      <td>1.777096</td>\n    </tr>\n  </tbody>\n</table>\n</div>",
      "text/plain": "                   A         B         C         D\n2017-01-01  1.389669 -0.289750 -0.482087  0.117522\n2017-01-02  0.906099  1.147294 -1.119660  0.365747\n2017-01-03 -1.552837 -0.725100 -0.010343 -2.252705\n2017-01-04 -1.034722  2.837132  0.770690  0.008662\n2017-01-05 -0.591056 -1.569515  0.205568 -0.388648\n2017-01-06 -0.232486 -0.136549 -0.078237  0.664034\n2017-01-07  0.025262  0.706775 -0.907876  1.777096"
     },
     "execution_count": 3,
     "metadata": {},
     "output_type": "execute_result"
    }
   ],
   "source": [
    "# 创建 2D dataframe\n",
    "df = pd.DataFrame(np.random.randn(7,4), index=dates, columns=list('ABCD'))\n",
    "df"
   ]
  },
  {
   "cell_type": "code",
   "execution_count": 4,
   "metadata": {},
   "outputs": [
    {
     "data": {
      "text/html": "<div>\n<style scoped>\n    .dataframe tbody tr th:only-of-type {\n        vertical-align: middle;\n    }\n\n    .dataframe tbody tr th {\n        vertical-align: top;\n    }\n\n    .dataframe thead th {\n        text-align: right;\n    }\n</style>\n<table border=\"1\" class=\"dataframe\">\n  <thead>\n    <tr style=\"text-align: right;\">\n      <th></th>\n      <th>A</th>\n      <th>B</th>\n      <th>C</th>\n      <th>D</th>\n      <th>E</th>\n      <th>F</th>\n    </tr>\n  </thead>\n  <tbody>\n    <tr>\n      <th>0</th>\n      <td>1.0</td>\n      <td>2013-01-02</td>\n      <td>1.0</td>\n      <td>3</td>\n      <td>test</td>\n      <td>foo</td>\n    </tr>\n    <tr>\n      <th>1</th>\n      <td>1.0</td>\n      <td>2013-01-02</td>\n      <td>1.0</td>\n      <td>3</td>\n      <td>train</td>\n      <td>foo</td>\n    </tr>\n    <tr>\n      <th>2</th>\n      <td>1.0</td>\n      <td>2013-01-02</td>\n      <td>1.0</td>\n      <td>3</td>\n      <td>test</td>\n      <td>foo</td>\n    </tr>\n    <tr>\n      <th>3</th>\n      <td>1.0</td>\n      <td>2013-01-02</td>\n      <td>1.0</td>\n      <td>3</td>\n      <td>train</td>\n      <td>foo</td>\n    </tr>\n  </tbody>\n</table>\n</div>",
      "text/plain": "     A          B    C  D      E    F\n0  1.0 2013-01-02  1.0  3   test  foo\n1  1.0 2013-01-02  1.0  3  train  foo\n2  1.0 2013-01-02  1.0  3   test  foo\n3  1.0 2013-01-02  1.0  3  train  foo"
     },
     "execution_count": 4,
     "metadata": {},
     "output_type": "execute_result"
    }
   ],
   "source": [
    "# 通过传入字典创建 dataframe\n",
    "df2 = pd.DataFrame({\n",
    "    'A': 1.,\n",
    "    'B': pd.Timestamp('20130102'),\n",
    "    'C': pd.Series(1, index=list(range(4)), dtype='float32'),\n",
    "    'D': np.array([3] * 4, dtype='int32'),\n",
    "    'E': pd.Categorical([\"test\", \"train\", \"test\", \"train\"]),\n",
    "    'F': 'foo'\n",
    "})\n",
    "df2"
   ]
  },
  {
   "cell_type": "code",
   "execution_count": 5,
   "metadata": {},
   "outputs": [
    {
     "data": {
      "text/plain": "A           float64\nB    datetime64[ns]\nC           float32\nD             int32\nE          category\nF            object\ndtype: object"
     },
     "execution_count": 5,
     "metadata": {},
     "output_type": "execute_result"
    }
   ],
   "source": [
    "df2.dtypes"
   ]
  },
  {
   "cell_type": "code",
   "execution_count": 6,
   "metadata": {},
   "outputs": [
    {
     "data": {
      "text/plain": "0    1.0\n1    1.0\n2    1.0\n3    1.0\nName: A, dtype: float64"
     },
     "execution_count": 6,
     "metadata": {},
     "output_type": "execute_result"
    }
   ],
   "source": [
    "df2.A"
   ]
  },
  {
   "cell_type": "code",
   "execution_count": 7,
   "metadata": {},
   "outputs": [
    {
     "data": {
      "text/html": "<div>\n<style scoped>\n    .dataframe tbody tr th:only-of-type {\n        vertical-align: middle;\n    }\n\n    .dataframe tbody tr th {\n        vertical-align: top;\n    }\n\n    .dataframe thead th {\n        text-align: right;\n    }\n</style>\n<table border=\"1\" class=\"dataframe\">\n  <thead>\n    <tr style=\"text-align: right;\">\n      <th></th>\n      <th>A</th>\n      <th>B</th>\n      <th>C</th>\n      <th>D</th>\n      <th>E</th>\n      <th>F</th>\n    </tr>\n  </thead>\n  <tbody>\n    <tr>\n      <th>0</th>\n      <td>1.0</td>\n      <td>2013-01-02</td>\n      <td>1.0</td>\n      <td>3</td>\n      <td>test</td>\n      <td>foo</td>\n    </tr>\n    <tr>\n      <th>1</th>\n      <td>1.0</td>\n      <td>2013-01-02</td>\n      <td>1.0</td>\n      <td>3</td>\n      <td>train</td>\n      <td>foo</td>\n    </tr>\n    <tr>\n      <th>2</th>\n      <td>1.0</td>\n      <td>2013-01-02</td>\n      <td>1.0</td>\n      <td>3</td>\n      <td>test</td>\n      <td>foo</td>\n    </tr>\n    <tr>\n      <th>3</th>\n      <td>1.0</td>\n      <td>2013-01-02</td>\n      <td>1.0</td>\n      <td>3</td>\n      <td>train</td>\n      <td>foo</td>\n    </tr>\n  </tbody>\n</table>\n</div>",
      "text/plain": "     A          B    C  D      E    F\n0  1.0 2013-01-02  1.0  3   test  foo\n1  1.0 2013-01-02  1.0  3  train  foo\n2  1.0 2013-01-02  1.0  3   test  foo\n3  1.0 2013-01-02  1.0  3  train  foo"
     },
     "execution_count": 7,
     "metadata": {},
     "output_type": "execute_result"
    }
   ],
   "source": [
    "df2.head()"
   ]
  },
  {
   "cell_type": "code",
   "execution_count": 8,
   "metadata": {},
   "outputs": [
    {
     "data": {
      "text/html": "<div>\n<style scoped>\n    .dataframe tbody tr th:only-of-type {\n        vertical-align: middle;\n    }\n\n    .dataframe tbody tr th {\n        vertical-align: top;\n    }\n\n    .dataframe thead th {\n        text-align: right;\n    }\n</style>\n<table border=\"1\" class=\"dataframe\">\n  <thead>\n    <tr style=\"text-align: right;\">\n      <th></th>\n      <th>A</th>\n      <th>B</th>\n      <th>C</th>\n      <th>D</th>\n      <th>E</th>\n      <th>F</th>\n    </tr>\n  </thead>\n  <tbody>\n    <tr>\n      <th>1</th>\n      <td>1.0</td>\n      <td>2013-01-02</td>\n      <td>1.0</td>\n      <td>3</td>\n      <td>train</td>\n      <td>foo</td>\n    </tr>\n    <tr>\n      <th>2</th>\n      <td>1.0</td>\n      <td>2013-01-02</td>\n      <td>1.0</td>\n      <td>3</td>\n      <td>test</td>\n      <td>foo</td>\n    </tr>\n    <tr>\n      <th>3</th>\n      <td>1.0</td>\n      <td>2013-01-02</td>\n      <td>1.0</td>\n      <td>3</td>\n      <td>train</td>\n      <td>foo</td>\n    </tr>\n  </tbody>\n</table>\n</div>",
      "text/plain": "     A          B    C  D      E    F\n1  1.0 2013-01-02  1.0  3  train  foo\n2  1.0 2013-01-02  1.0  3   test  foo\n3  1.0 2013-01-02  1.0  3  train  foo"
     },
     "execution_count": 8,
     "metadata": {},
     "output_type": "execute_result"
    }
   ],
   "source": [
    "df2.tail(3)"
   ]
  },
  {
   "cell_type": "code",
   "execution_count": 9,
   "metadata": {},
   "outputs": [
    {
     "data": {
      "text/plain": "DatetimeIndex(['2017-01-01', '2017-01-02', '2017-01-03', '2017-01-04',\n               '2017-01-05', '2017-01-06', '2017-01-07'],\n              dtype='datetime64[ns]', freq='D')"
     },
     "execution_count": 9,
     "metadata": {},
     "output_type": "execute_result"
    }
   ],
   "source": [
    "df.index"
   ]
  },
  {
   "cell_type": "code",
   "execution_count": 10,
   "metadata": {},
   "outputs": [
    {
     "data": {
      "text/plain": "Index(['A', 'B', 'C', 'D'], dtype='object')"
     },
     "execution_count": 10,
     "metadata": {},
     "output_type": "execute_result"
    }
   ],
   "source": [
    "df.columns"
   ]
  },
  {
   "cell_type": "code",
   "execution_count": 11,
   "metadata": {},
   "outputs": [
    {
     "data": {
      "text/plain": "array([[ 1.38966855, -0.28975047, -0.4820873 ,  0.1175215 ],\n       [ 0.90609908,  1.14729356, -1.1196598 ,  0.36574672],\n       [-1.55283709, -0.7251003 , -0.0103427 , -2.25270475],\n       [-1.03472196,  2.83713219,  0.77068982,  0.00866165],\n       [-0.59105648, -1.56951498,  0.20556772, -0.38864819],\n       [-0.23248598, -0.13654933, -0.07823718,  0.66403432],\n       [ 0.02526238,  0.70677523, -0.90787581,  1.77709562]])"
     },
     "execution_count": 11,
     "metadata": {},
     "output_type": "execute_result"
    }
   ],
   "source": [
    "df.to_numpy()"
   ]
  },
  {
   "cell_type": "code",
   "execution_count": 12,
   "metadata": {},
   "outputs": [
    {
     "data": {
      "text/plain": "array([[1.0, Timestamp('2013-01-02 00:00:00'), 1.0, 3, 'test', 'foo'],\n       [1.0, Timestamp('2013-01-02 00:00:00'), 1.0, 3, 'train', 'foo'],\n       [1.0, Timestamp('2013-01-02 00:00:00'), 1.0, 3, 'test', 'foo'],\n       [1.0, Timestamp('2013-01-02 00:00:00'), 1.0, 3, 'train', 'foo']],\n      dtype=object)"
     },
     "execution_count": 12,
     "metadata": {},
     "output_type": "execute_result"
    }
   ],
   "source": [
    "# df2 这个 DataFrame 包含了多种类型，DataFrame.to_numpy() 操作就会耗费较多资源\n",
    "df2.to_numpy()"
   ]
  },
  {
   "cell_type": "code",
   "execution_count": 13,
   "metadata": {},
   "outputs": [
    {
     "data": {
      "text/html": "<div>\n<style scoped>\n    .dataframe tbody tr th:only-of-type {\n        vertical-align: middle;\n    }\n\n    .dataframe tbody tr th {\n        vertical-align: top;\n    }\n\n    .dataframe thead th {\n        text-align: right;\n    }\n</style>\n<table border=\"1\" class=\"dataframe\">\n  <thead>\n    <tr style=\"text-align: right;\">\n      <th></th>\n      <th>A</th>\n      <th>B</th>\n      <th>C</th>\n      <th>D</th>\n    </tr>\n  </thead>\n  <tbody>\n    <tr>\n      <th>count</th>\n      <td>7.000000</td>\n      <td>7.000000</td>\n      <td>7.000000</td>\n      <td>7.000000</td>\n    </tr>\n    <tr>\n      <th>mean</th>\n      <td>-0.155725</td>\n      <td>0.281469</td>\n      <td>-0.231706</td>\n      <td>0.041672</td>\n    </tr>\n    <tr>\n      <th>std</th>\n      <td>1.038302</td>\n      <td>1.437724</td>\n      <td>0.655352</td>\n      <td>1.222036</td>\n    </tr>\n    <tr>\n      <th>min</th>\n      <td>-1.552837</td>\n      <td>-1.569515</td>\n      <td>-1.119660</td>\n      <td>-2.252705</td>\n    </tr>\n    <tr>\n      <th>25%</th>\n      <td>-0.812889</td>\n      <td>-0.507425</td>\n      <td>-0.694982</td>\n      <td>-0.189993</td>\n    </tr>\n    <tr>\n      <th>50%</th>\n      <td>-0.232486</td>\n      <td>-0.136549</td>\n      <td>-0.078237</td>\n      <td>0.117522</td>\n    </tr>\n    <tr>\n      <th>75%</th>\n      <td>0.465681</td>\n      <td>0.927034</td>\n      <td>0.097613</td>\n      <td>0.514891</td>\n    </tr>\n    <tr>\n      <th>max</th>\n      <td>1.389669</td>\n      <td>2.837132</td>\n      <td>0.770690</td>\n      <td>1.777096</td>\n    </tr>\n  </tbody>\n</table>\n</div>",
      "text/plain": "              A         B         C         D\ncount  7.000000  7.000000  7.000000  7.000000\nmean  -0.155725  0.281469 -0.231706  0.041672\nstd    1.038302  1.437724  0.655352  1.222036\nmin   -1.552837 -1.569515 -1.119660 -2.252705\n25%   -0.812889 -0.507425 -0.694982 -0.189993\n50%   -0.232486 -0.136549 -0.078237  0.117522\n75%    0.465681  0.927034  0.097613  0.514891\nmax    1.389669  2.837132  0.770690  1.777096"
     },
     "execution_count": 13,
     "metadata": {},
     "output_type": "execute_result"
    }
   ],
   "source": [
    "# describe() 可以快速查看数据的统计摘要\n",
    "df.describe()"
   ]
  },
  {
   "cell_type": "code",
   "execution_count": 14,
   "metadata": {},
   "outputs": [
    {
     "data": {
      "text/html": "<div>\n<style scoped>\n    .dataframe tbody tr th:only-of-type {\n        vertical-align: middle;\n    }\n\n    .dataframe tbody tr th {\n        vertical-align: top;\n    }\n\n    .dataframe thead th {\n        text-align: right;\n    }\n</style>\n<table border=\"1\" class=\"dataframe\">\n  <thead>\n    <tr style=\"text-align: right;\">\n      <th></th>\n      <th>2017-01-01</th>\n      <th>2017-01-02</th>\n      <th>2017-01-03</th>\n      <th>2017-01-04</th>\n      <th>2017-01-05</th>\n      <th>2017-01-06</th>\n      <th>2017-01-07</th>\n    </tr>\n  </thead>\n  <tbody>\n    <tr>\n      <th>A</th>\n      <td>1.389669</td>\n      <td>0.906099</td>\n      <td>-1.552837</td>\n      <td>-1.034722</td>\n      <td>-0.591056</td>\n      <td>-0.232486</td>\n      <td>0.025262</td>\n    </tr>\n    <tr>\n      <th>B</th>\n      <td>-0.289750</td>\n      <td>1.147294</td>\n      <td>-0.725100</td>\n      <td>2.837132</td>\n      <td>-1.569515</td>\n      <td>-0.136549</td>\n      <td>0.706775</td>\n    </tr>\n    <tr>\n      <th>C</th>\n      <td>-0.482087</td>\n      <td>-1.119660</td>\n      <td>-0.010343</td>\n      <td>0.770690</td>\n      <td>0.205568</td>\n      <td>-0.078237</td>\n      <td>-0.907876</td>\n    </tr>\n    <tr>\n      <th>D</th>\n      <td>0.117522</td>\n      <td>0.365747</td>\n      <td>-2.252705</td>\n      <td>0.008662</td>\n      <td>-0.388648</td>\n      <td>0.664034</td>\n      <td>1.777096</td>\n    </tr>\n  </tbody>\n</table>\n</div>",
      "text/plain": "   2017-01-01  2017-01-02  2017-01-03  2017-01-04  2017-01-05  2017-01-06  \\\nA    1.389669    0.906099   -1.552837   -1.034722   -0.591056   -0.232486   \nB   -0.289750    1.147294   -0.725100    2.837132   -1.569515   -0.136549   \nC   -0.482087   -1.119660   -0.010343    0.770690    0.205568   -0.078237   \nD    0.117522    0.365747   -2.252705    0.008662   -0.388648    0.664034   \n\n   2017-01-07  \nA    0.025262  \nB    0.706775  \nC   -0.907876  \nD    1.777096  "
     },
     "execution_count": 14,
     "metadata": {},
     "output_type": "execute_result"
    }
   ],
   "source": [
    "df.T # 转置数据"
   ]
  },
  {
   "cell_type": "code",
   "execution_count": 15,
   "metadata": {},
   "outputs": [
    {
     "data": {
      "text/html": "<div>\n<style scoped>\n    .dataframe tbody tr th:only-of-type {\n        vertical-align: middle;\n    }\n\n    .dataframe tbody tr th {\n        vertical-align: top;\n    }\n\n    .dataframe thead th {\n        text-align: right;\n    }\n</style>\n<table border=\"1\" class=\"dataframe\">\n  <thead>\n    <tr style=\"text-align: right;\">\n      <th></th>\n      <th>D</th>\n      <th>C</th>\n      <th>B</th>\n      <th>A</th>\n    </tr>\n  </thead>\n  <tbody>\n    <tr>\n      <th>2017-01-01</th>\n      <td>0.117522</td>\n      <td>-0.482087</td>\n      <td>-0.289750</td>\n      <td>1.389669</td>\n    </tr>\n    <tr>\n      <th>2017-01-02</th>\n      <td>0.365747</td>\n      <td>-1.119660</td>\n      <td>1.147294</td>\n      <td>0.906099</td>\n    </tr>\n    <tr>\n      <th>2017-01-03</th>\n      <td>-2.252705</td>\n      <td>-0.010343</td>\n      <td>-0.725100</td>\n      <td>-1.552837</td>\n    </tr>\n    <tr>\n      <th>2017-01-04</th>\n      <td>0.008662</td>\n      <td>0.770690</td>\n      <td>2.837132</td>\n      <td>-1.034722</td>\n    </tr>\n    <tr>\n      <th>2017-01-05</th>\n      <td>-0.388648</td>\n      <td>0.205568</td>\n      <td>-1.569515</td>\n      <td>-0.591056</td>\n    </tr>\n    <tr>\n      <th>2017-01-06</th>\n      <td>0.664034</td>\n      <td>-0.078237</td>\n      <td>-0.136549</td>\n      <td>-0.232486</td>\n    </tr>\n    <tr>\n      <th>2017-01-07</th>\n      <td>1.777096</td>\n      <td>-0.907876</td>\n      <td>0.706775</td>\n      <td>0.025262</td>\n    </tr>\n  </tbody>\n</table>\n</div>",
      "text/plain": "                   D         C         B         A\n2017-01-01  0.117522 -0.482087 -0.289750  1.389669\n2017-01-02  0.365747 -1.119660  1.147294  0.906099\n2017-01-03 -2.252705 -0.010343 -0.725100 -1.552837\n2017-01-04  0.008662  0.770690  2.837132 -1.034722\n2017-01-05 -0.388648  0.205568 -1.569515 -0.591056\n2017-01-06  0.664034 -0.078237 -0.136549 -0.232486\n2017-01-07  1.777096 -0.907876  0.706775  0.025262"
     },
     "execution_count": 15,
     "metadata": {},
     "output_type": "execute_result"
    }
   ],
   "source": [
    "# 按轴排序\n",
    "df.sort_index(axis=1, ascending=False)"
   ]
  },
  {
   "cell_type": "code",
   "execution_count": 16,
   "metadata": {},
   "outputs": [
    {
     "data": {
      "text/html": "<div>\n<style scoped>\n    .dataframe tbody tr th:only-of-type {\n        vertical-align: middle;\n    }\n\n    .dataframe tbody tr th {\n        vertical-align: top;\n    }\n\n    .dataframe thead th {\n        text-align: right;\n    }\n</style>\n<table border=\"1\" class=\"dataframe\">\n  <thead>\n    <tr style=\"text-align: right;\">\n      <th></th>\n      <th>A</th>\n      <th>B</th>\n      <th>C</th>\n      <th>D</th>\n    </tr>\n  </thead>\n  <tbody>\n    <tr>\n      <th>2017-01-05</th>\n      <td>-0.591056</td>\n      <td>-1.569515</td>\n      <td>0.205568</td>\n      <td>-0.388648</td>\n    </tr>\n    <tr>\n      <th>2017-01-03</th>\n      <td>-1.552837</td>\n      <td>-0.725100</td>\n      <td>-0.010343</td>\n      <td>-2.252705</td>\n    </tr>\n    <tr>\n      <th>2017-01-01</th>\n      <td>1.389669</td>\n      <td>-0.289750</td>\n      <td>-0.482087</td>\n      <td>0.117522</td>\n    </tr>\n    <tr>\n      <th>2017-01-06</th>\n      <td>-0.232486</td>\n      <td>-0.136549</td>\n      <td>-0.078237</td>\n      <td>0.664034</td>\n    </tr>\n    <tr>\n      <th>2017-01-07</th>\n      <td>0.025262</td>\n      <td>0.706775</td>\n      <td>-0.907876</td>\n      <td>1.777096</td>\n    </tr>\n    <tr>\n      <th>2017-01-02</th>\n      <td>0.906099</td>\n      <td>1.147294</td>\n      <td>-1.119660</td>\n      <td>0.365747</td>\n    </tr>\n    <tr>\n      <th>2017-01-04</th>\n      <td>-1.034722</td>\n      <td>2.837132</td>\n      <td>0.770690</td>\n      <td>0.008662</td>\n    </tr>\n  </tbody>\n</table>\n</div>",
      "text/plain": "                   A         B         C         D\n2017-01-05 -0.591056 -1.569515  0.205568 -0.388648\n2017-01-03 -1.552837 -0.725100 -0.010343 -2.252705\n2017-01-01  1.389669 -0.289750 -0.482087  0.117522\n2017-01-06 -0.232486 -0.136549 -0.078237  0.664034\n2017-01-07  0.025262  0.706775 -0.907876  1.777096\n2017-01-02  0.906099  1.147294 -1.119660  0.365747\n2017-01-04 -1.034722  2.837132  0.770690  0.008662"
     },
     "execution_count": 16,
     "metadata": {},
     "output_type": "execute_result"
    }
   ],
   "source": [
    "# 按值排序\n",
    "df.sort_values(by='B')"
   ]
  },
  {
   "cell_type": "code",
   "execution_count": null,
   "metadata": {},
   "outputs": [],
   "source": []
  }
 ],
 "metadata": {
  "kernelspec": {
   "display_name": "Python 3.7.1 64-bit ('venv': virtualenv)",
   "language": "python",
   "name": "python37164bitvenvvirtualenv2aa68dbb12dc490d89f2001744b96193"
  },
  "language_info": {
   "codemirror_mode": {
    "name": "ipython",
    "version": 3
   },
   "file_extension": ".py",
   "mimetype": "text/x-python",
   "name": "python",
   "nbconvert_exporter": "python",
   "pygments_lexer": "ipython3",
   "version": "3.7.1-final"
  },
  "toc": {
   "base_numbering": 1,
   "nav_menu": {},
   "number_sections": true,
   "sideBar": true,
   "skip_h1_title": false,
   "title_cell": "Table of Contents",
   "title_sidebar": "Contents",
   "toc_cell": false,
   "toc_position": {},
   "toc_section_display": true,
   "toc_window_display": false
  }
 },
 "nbformat": 4,
 "nbformat_minor": 2
}