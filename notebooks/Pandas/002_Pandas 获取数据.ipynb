{
 "nbformat": 4,
 "nbformat_minor": 2,
 "metadata": {
  "language_info": {
   "name": "python",
   "codemirror_mode": {
    "name": "ipython",
    "version": 3
   },
   "version": "3.7.1-final"
  },
  "orig_nbformat": 2,
  "file_extension": ".py",
  "mimetype": "text/x-python",
  "name": "python",
  "npconvert_exporter": "python",
  "pygments_lexer": "ipython3",
  "version": 3,
  "kernelspec": {
   "name": "python37164bitvenvvirtualenv2aa68dbb12dc490d89f2001744b96193",
   "display_name": "Python 3.7.1 64-bit ('venv': virtualenv)"
  }
 },
 "cells": [
  {
   "cell_type": "code",
   "execution_count": 2,
   "metadata": {},
   "outputs": [
    {
     "data": {
      "text/html": "<div>\n<style scoped>\n    .dataframe tbody tr th:only-of-type {\n        vertical-align: middle;\n    }\n\n    .dataframe tbody tr th {\n        vertical-align: top;\n    }\n\n    .dataframe thead th {\n        text-align: right;\n    }\n</style>\n<table border=\"1\" class=\"dataframe\">\n  <thead>\n    <tr style=\"text-align: right;\">\n      <th></th>\n      <th>A</th>\n      <th>B</th>\n      <th>C</th>\n      <th>D</th>\n    </tr>\n  </thead>\n  <tbody>\n    <tr>\n      <th>2013-01-01</th>\n      <td>1.832368</td>\n      <td>1.177498</td>\n      <td>0.638396</td>\n      <td>-0.182525</td>\n    </tr>\n    <tr>\n      <th>2013-01-02</th>\n      <td>1.485888</td>\n      <td>-0.521183</td>\n      <td>-0.546460</td>\n      <td>-1.124263</td>\n    </tr>\n    <tr>\n      <th>2013-01-03</th>\n      <td>-0.731605</td>\n      <td>0.124034</td>\n      <td>1.148756</td>\n      <td>-0.423043</td>\n    </tr>\n    <tr>\n      <th>2013-01-04</th>\n      <td>1.593673</td>\n      <td>2.411398</td>\n      <td>-0.979668</td>\n      <td>1.477386</td>\n    </tr>\n    <tr>\n      <th>2013-01-05</th>\n      <td>-0.239526</td>\n      <td>-0.492755</td>\n      <td>0.707605</td>\n      <td>-0.589724</td>\n    </tr>\n    <tr>\n      <th>2013-01-06</th>\n      <td>0.632588</td>\n      <td>-2.243278</td>\n      <td>-0.957501</td>\n      <td>0.143698</td>\n    </tr>\n  </tbody>\n</table>\n</div>",
      "text/plain": "                   A         B         C         D\n2013-01-01  1.832368  1.177498  0.638396 -0.182525\n2013-01-02  1.485888 -0.521183 -0.546460 -1.124263\n2013-01-03 -0.731605  0.124034  1.148756 -0.423043\n2013-01-04  1.593673  2.411398 -0.979668  1.477386\n2013-01-05 -0.239526 -0.492755  0.707605 -0.589724\n2013-01-06  0.632588 -2.243278 -0.957501  0.143698"
     },
     "execution_count": 2,
     "metadata": {},
     "output_type": "execute_result"
    }
   ],
   "source": [
    "import pandas as pd\n",
    "import numpy as np\n",
    "\n",
    "dates = pd.date_range('20130101', periods=6)\n",
    "df = pd.DataFrame(np.random.randn(6, 4), index=dates, columns=list('ABCD'))\n",
    "df"
   ]
  },
  {
   "cell_type": "code",
   "execution_count": 3,
   "metadata": {},
   "outputs": [
    {
     "data": {
      "text/plain": "2013-01-01    1.832368\n2013-01-02    1.485888\n2013-01-03   -0.731605\n2013-01-04    1.593673\n2013-01-05   -0.239526\n2013-01-06    0.632588\nFreq: D, Name: A, dtype: float64"
     },
     "execution_count": 3,
     "metadata": {},
     "output_type": "execute_result"
    }
   ],
   "source": [
    "# 选择单列，产生 Series，与 df.A 等效\n",
    "df['A']"
   ]
  },
  {
   "cell_type": "code",
   "execution_count": 4,
   "metadata": {},
   "outputs": [
    {
     "data": {
      "text/html": "<div>\n<style scoped>\n    .dataframe tbody tr th:only-of-type {\n        vertical-align: middle;\n    }\n\n    .dataframe tbody tr th {\n        vertical-align: top;\n    }\n\n    .dataframe thead th {\n        text-align: right;\n    }\n</style>\n<table border=\"1\" class=\"dataframe\">\n  <thead>\n    <tr style=\"text-align: right;\">\n      <th></th>\n      <th>A</th>\n      <th>B</th>\n      <th>C</th>\n      <th>D</th>\n    </tr>\n  </thead>\n  <tbody>\n    <tr>\n      <th>2013-01-01</th>\n      <td>1.832368</td>\n      <td>1.177498</td>\n      <td>0.638396</td>\n      <td>-0.182525</td>\n    </tr>\n    <tr>\n      <th>2013-01-02</th>\n      <td>1.485888</td>\n      <td>-0.521183</td>\n      <td>-0.546460</td>\n      <td>-1.124263</td>\n    </tr>\n    <tr>\n      <th>2013-01-03</th>\n      <td>-0.731605</td>\n      <td>0.124034</td>\n      <td>1.148756</td>\n      <td>-0.423043</td>\n    </tr>\n  </tbody>\n</table>\n</div>",
      "text/plain": "                   A         B         C         D\n2013-01-01  1.832368  1.177498  0.638396 -0.182525\n2013-01-02  1.485888 -0.521183 -0.546460 -1.124263\n2013-01-03 -0.731605  0.124034  1.148756 -0.423043"
     },
     "execution_count": 4,
     "metadata": {},
     "output_type": "execute_result"
    }
   ],
   "source": [
    "# 用 [] 切片行\n",
    "df[0:3]"
   ]
  },
  {
   "cell_type": "code",
   "execution_count": 5,
   "metadata": {},
   "outputs": [
    {
     "data": {
      "text/html": "<div>\n<style scoped>\n    .dataframe tbody tr th:only-of-type {\n        vertical-align: middle;\n    }\n\n    .dataframe tbody tr th {\n        vertical-align: top;\n    }\n\n    .dataframe thead th {\n        text-align: right;\n    }\n</style>\n<table border=\"1\" class=\"dataframe\">\n  <thead>\n    <tr style=\"text-align: right;\">\n      <th></th>\n      <th>A</th>\n      <th>B</th>\n      <th>C</th>\n      <th>D</th>\n    </tr>\n  </thead>\n  <tbody>\n    <tr>\n      <th>2013-01-02</th>\n      <td>1.485888</td>\n      <td>-0.521183</td>\n      <td>-0.546460</td>\n      <td>-1.124263</td>\n    </tr>\n    <tr>\n      <th>2013-01-03</th>\n      <td>-0.731605</td>\n      <td>0.124034</td>\n      <td>1.148756</td>\n      <td>-0.423043</td>\n    </tr>\n    <tr>\n      <th>2013-01-04</th>\n      <td>1.593673</td>\n      <td>2.411398</td>\n      <td>-0.979668</td>\n      <td>1.477386</td>\n    </tr>\n  </tbody>\n</table>\n</div>",
      "text/plain": "                   A         B         C         D\n2013-01-02  1.485888 -0.521183 -0.546460 -1.124263\n2013-01-03 -0.731605  0.124034  1.148756 -0.423043\n2013-01-04  1.593673  2.411398 -0.979668  1.477386"
     },
     "execution_count": 5,
     "metadata": {},
     "output_type": "execute_result"
    }
   ],
   "source": [
    "df['20130102':'20130104']"
   ]
  },
  {
   "cell_type": "code",
   "execution_count": 7,
   "metadata": {},
   "outputs": [
    {
     "data": {
      "text/plain": "A    1.832368\nB    1.177498\nC    0.638396\nD   -0.182525\nName: 2013-01-01 00:00:00, dtype: float64"
     },
     "execution_count": 7,
     "metadata": {},
     "output_type": "execute_result"
    }
   ],
   "source": [
    "# 用标签提取一行数据\n",
    "df.loc[dates[0]]"
   ]
  },
  {
   "cell_type": "code",
   "execution_count": 8,
   "metadata": {},
   "outputs": [
    {
     "data": {
      "text/html": "<div>\n<style scoped>\n    .dataframe tbody tr th:only-of-type {\n        vertical-align: middle;\n    }\n\n    .dataframe tbody tr th {\n        vertical-align: top;\n    }\n\n    .dataframe thead th {\n        text-align: right;\n    }\n</style>\n<table border=\"1\" class=\"dataframe\">\n  <thead>\n    <tr style=\"text-align: right;\">\n      <th></th>\n      <th>A</th>\n      <th>B</th>\n    </tr>\n  </thead>\n  <tbody>\n    <tr>\n      <th>2013-01-01</th>\n      <td>1.832368</td>\n      <td>1.177498</td>\n    </tr>\n    <tr>\n      <th>2013-01-02</th>\n      <td>1.485888</td>\n      <td>-0.521183</td>\n    </tr>\n    <tr>\n      <th>2013-01-03</th>\n      <td>-0.731605</td>\n      <td>0.124034</td>\n    </tr>\n    <tr>\n      <th>2013-01-04</th>\n      <td>1.593673</td>\n      <td>2.411398</td>\n    </tr>\n    <tr>\n      <th>2013-01-05</th>\n      <td>-0.239526</td>\n      <td>-0.492755</td>\n    </tr>\n    <tr>\n      <th>2013-01-06</th>\n      <td>0.632588</td>\n      <td>-2.243278</td>\n    </tr>\n  </tbody>\n</table>\n</div>",
      "text/plain": "                   A         B\n2013-01-01  1.832368  1.177498\n2013-01-02  1.485888 -0.521183\n2013-01-03 -0.731605  0.124034\n2013-01-04  1.593673  2.411398\n2013-01-05 -0.239526 -0.492755\n2013-01-06  0.632588 -2.243278"
     },
     "execution_count": 8,
     "metadata": {},
     "output_type": "execute_result"
    }
   ],
   "source": [
    "df.loc[:, ['A', 'B']] # 用标签选择多列数据"
   ]
  },
  {
   "cell_type": "code",
   "execution_count": 9,
   "metadata": {},
   "outputs": [
    {
     "data": {
      "text/html": "<div>\n<style scoped>\n    .dataframe tbody tr th:only-of-type {\n        vertical-align: middle;\n    }\n\n    .dataframe tbody tr th {\n        vertical-align: top;\n    }\n\n    .dataframe thead th {\n        text-align: right;\n    }\n</style>\n<table border=\"1\" class=\"dataframe\">\n  <thead>\n    <tr style=\"text-align: right;\">\n      <th></th>\n      <th>A</th>\n      <th>B</th>\n    </tr>\n  </thead>\n  <tbody>\n    <tr>\n      <th>2013-01-02</th>\n      <td>1.485888</td>\n      <td>-0.521183</td>\n    </tr>\n    <tr>\n      <th>2013-01-03</th>\n      <td>-0.731605</td>\n      <td>0.124034</td>\n    </tr>\n    <tr>\n      <th>2013-01-04</th>\n      <td>1.593673</td>\n      <td>2.411398</td>\n    </tr>\n  </tbody>\n</table>\n</div>",
      "text/plain": "                   A         B\n2013-01-02  1.485888 -0.521183\n2013-01-03 -0.731605  0.124034\n2013-01-04  1.593673  2.411398"
     },
     "execution_count": 9,
     "metadata": {},
     "output_type": "execute_result"
    }
   ],
   "source": [
    "df.loc['20130102':'20130104', ['A', 'B']]"
   ]
  },
  {
   "cell_type": "code",
   "execution_count": 10,
   "metadata": {},
   "outputs": [
    {
     "data": {
      "text/plain": "A    1.485888\nB   -0.521183\nName: 2013-01-02 00:00:00, dtype: float64"
     },
     "execution_count": 10,
     "metadata": {},
     "output_type": "execute_result"
    }
   ],
   "source": [
    "df.loc['20130102', ['A', 'B']]"
   ]
  },
  {
   "cell_type": "code",
   "execution_count": 11,
   "metadata": {},
   "outputs": [
    {
     "data": {
      "text/plain": "1.8323683347112978"
     },
     "execution_count": 11,
     "metadata": {},
     "output_type": "execute_result"
    }
   ],
   "source": [
    "df.loc[dates[0], 'A']"
   ]
  },
  {
   "cell_type": "code",
   "execution_count": 12,
   "metadata": {},
   "outputs": [
    {
     "data": {
      "text/plain": "1.8323683347112978"
     },
     "execution_count": 12,
     "metadata": {},
     "output_type": "execute_result"
    }
   ],
   "source": [
    "df.at[dates[0], 'A']"
   ]
  },
  {
   "cell_type": "code",
   "execution_count": 13,
   "metadata": {},
   "outputs": [
    {
     "data": {
      "text/plain": "A    1.593673\nB    2.411398\nC   -0.979668\nD    1.477386\nName: 2013-01-04 00:00:00, dtype: float64"
     },
     "execution_count": 13,
     "metadata": {},
     "output_type": "execute_result"
    }
   ],
   "source": [
    "df.iloc[3]"
   ]
  },
  {
   "cell_type": "code",
   "execution_count": 14,
   "metadata": {},
   "outputs": [
    {
     "data": {
      "text/html": "<div>\n<style scoped>\n    .dataframe tbody tr th:only-of-type {\n        vertical-align: middle;\n    }\n\n    .dataframe tbody tr th {\n        vertical-align: top;\n    }\n\n    .dataframe thead th {\n        text-align: right;\n    }\n</style>\n<table border=\"1\" class=\"dataframe\">\n  <thead>\n    <tr style=\"text-align: right;\">\n      <th></th>\n      <th>A</th>\n      <th>B</th>\n    </tr>\n  </thead>\n  <tbody>\n    <tr>\n      <th>2013-01-04</th>\n      <td>1.593673</td>\n      <td>2.411398</td>\n    </tr>\n    <tr>\n      <th>2013-01-05</th>\n      <td>-0.239526</td>\n      <td>-0.492755</td>\n    </tr>\n  </tbody>\n</table>\n</div>",
      "text/plain": "                   A         B\n2013-01-04  1.593673  2.411398\n2013-01-05 -0.239526 -0.492755"
     },
     "execution_count": 14,
     "metadata": {},
     "output_type": "execute_result"
    }
   ],
   "source": [
    "df.iloc[3:5, 0:2]"
   ]
  },
  {
   "cell_type": "code",
   "execution_count": 15,
   "metadata": {},
   "outputs": [
    {
     "data": {
      "text/html": "<div>\n<style scoped>\n    .dataframe tbody tr th:only-of-type {\n        vertical-align: middle;\n    }\n\n    .dataframe tbody tr th {\n        vertical-align: top;\n    }\n\n    .dataframe thead th {\n        text-align: right;\n    }\n</style>\n<table border=\"1\" class=\"dataframe\">\n  <thead>\n    <tr style=\"text-align: right;\">\n      <th></th>\n      <th>A</th>\n      <th>C</th>\n    </tr>\n  </thead>\n  <tbody>\n    <tr>\n      <th>2013-01-02</th>\n      <td>1.485888</td>\n      <td>-0.546460</td>\n    </tr>\n    <tr>\n      <th>2013-01-03</th>\n      <td>-0.731605</td>\n      <td>1.148756</td>\n    </tr>\n    <tr>\n      <th>2013-01-05</th>\n      <td>-0.239526</td>\n      <td>0.707605</td>\n    </tr>\n  </tbody>\n</table>\n</div>",
      "text/plain": "                   A         C\n2013-01-02  1.485888 -0.546460\n2013-01-03 -0.731605  1.148756\n2013-01-05 -0.239526  0.707605"
     },
     "execution_count": 15,
     "metadata": {},
     "output_type": "execute_result"
    }
   ],
   "source": [
    "df.iloc[[1, 2, 4], [0, 2]]"
   ]
  },
  {
   "cell_type": "code",
   "execution_count": 16,
   "metadata": {},
   "outputs": [
    {
     "data": {
      "text/html": "<div>\n<style scoped>\n    .dataframe tbody tr th:only-of-type {\n        vertical-align: middle;\n    }\n\n    .dataframe tbody tr th {\n        vertical-align: top;\n    }\n\n    .dataframe thead th {\n        text-align: right;\n    }\n</style>\n<table border=\"1\" class=\"dataframe\">\n  <thead>\n    <tr style=\"text-align: right;\">\n      <th></th>\n      <th>A</th>\n      <th>B</th>\n      <th>C</th>\n      <th>D</th>\n    </tr>\n  </thead>\n  <tbody>\n    <tr>\n      <th>2013-01-02</th>\n      <td>1.485888</td>\n      <td>-0.521183</td>\n      <td>-0.546460</td>\n      <td>-1.124263</td>\n    </tr>\n    <tr>\n      <th>2013-01-03</th>\n      <td>-0.731605</td>\n      <td>0.124034</td>\n      <td>1.148756</td>\n      <td>-0.423043</td>\n    </tr>\n  </tbody>\n</table>\n</div>",
      "text/plain": "                   A         B         C         D\n2013-01-02  1.485888 -0.521183 -0.546460 -1.124263\n2013-01-03 -0.731605  0.124034  1.148756 -0.423043"
     },
     "execution_count": 16,
     "metadata": {},
     "output_type": "execute_result"
    }
   ],
   "source": [
    "df.iloc[1:3, :]"
   ]
  },
  {
   "cell_type": "code",
   "execution_count": 17,
   "metadata": {},
   "outputs": [
    {
     "data": {
      "text/html": "<div>\n<style scoped>\n    .dataframe tbody tr th:only-of-type {\n        vertical-align: middle;\n    }\n\n    .dataframe tbody tr th {\n        vertical-align: top;\n    }\n\n    .dataframe thead th {\n        text-align: right;\n    }\n</style>\n<table border=\"1\" class=\"dataframe\">\n  <thead>\n    <tr style=\"text-align: right;\">\n      <th></th>\n      <th>B</th>\n      <th>C</th>\n    </tr>\n  </thead>\n  <tbody>\n    <tr>\n      <th>2013-01-01</th>\n      <td>1.177498</td>\n      <td>0.638396</td>\n    </tr>\n    <tr>\n      <th>2013-01-02</th>\n      <td>-0.521183</td>\n      <td>-0.546460</td>\n    </tr>\n    <tr>\n      <th>2013-01-03</th>\n      <td>0.124034</td>\n      <td>1.148756</td>\n    </tr>\n    <tr>\n      <th>2013-01-04</th>\n      <td>2.411398</td>\n      <td>-0.979668</td>\n    </tr>\n    <tr>\n      <th>2013-01-05</th>\n      <td>-0.492755</td>\n      <td>0.707605</td>\n    </tr>\n    <tr>\n      <th>2013-01-06</th>\n      <td>-2.243278</td>\n      <td>-0.957501</td>\n    </tr>\n  </tbody>\n</table>\n</div>",
      "text/plain": "                   B         C\n2013-01-01  1.177498  0.638396\n2013-01-02 -0.521183 -0.546460\n2013-01-03  0.124034  1.148756\n2013-01-04  2.411398 -0.979668\n2013-01-05 -0.492755  0.707605\n2013-01-06 -2.243278 -0.957501"
     },
     "execution_count": 17,
     "metadata": {},
     "output_type": "execute_result"
    }
   ],
   "source": [
    "df.iloc[:, 1:3]"
   ]
  },
  {
   "cell_type": "code",
   "execution_count": 18,
   "metadata": {},
   "outputs": [
    {
     "data": {
      "text/plain": "-0.5211834570661475"
     },
     "execution_count": 18,
     "metadata": {},
     "output_type": "execute_result"
    }
   ],
   "source": [
    "df.iloc[1, 1]"
   ]
  },
  {
   "cell_type": "code",
   "execution_count": 19,
   "metadata": {},
   "outputs": [
    {
     "data": {
      "text/plain": "-0.5211834570661475"
     },
     "execution_count": 19,
     "metadata": {},
     "output_type": "execute_result"
    }
   ],
   "source": [
    "df.iat[1, 1]"
   ]
  },
  {
   "cell_type": "code",
   "execution_count": 20,
   "metadata": {},
   "outputs": [
    {
     "data": {
      "text/html": "<div>\n<style scoped>\n    .dataframe tbody tr th:only-of-type {\n        vertical-align: middle;\n    }\n\n    .dataframe tbody tr th {\n        vertical-align: top;\n    }\n\n    .dataframe thead th {\n        text-align: right;\n    }\n</style>\n<table border=\"1\" class=\"dataframe\">\n  <thead>\n    <tr style=\"text-align: right;\">\n      <th></th>\n      <th>A</th>\n      <th>B</th>\n      <th>C</th>\n      <th>D</th>\n    </tr>\n  </thead>\n  <tbody>\n    <tr>\n      <th>2013-01-01</th>\n      <td>1.832368</td>\n      <td>1.177498</td>\n      <td>0.638396</td>\n      <td>-0.182525</td>\n    </tr>\n    <tr>\n      <th>2013-01-02</th>\n      <td>1.485888</td>\n      <td>-0.521183</td>\n      <td>-0.546460</td>\n      <td>-1.124263</td>\n    </tr>\n    <tr>\n      <th>2013-01-04</th>\n      <td>1.593673</td>\n      <td>2.411398</td>\n      <td>-0.979668</td>\n      <td>1.477386</td>\n    </tr>\n    <tr>\n      <th>2013-01-06</th>\n      <td>0.632588</td>\n      <td>-2.243278</td>\n      <td>-0.957501</td>\n      <td>0.143698</td>\n    </tr>\n  </tbody>\n</table>\n</div>",
      "text/plain": "                   A         B         C         D\n2013-01-01  1.832368  1.177498  0.638396 -0.182525\n2013-01-02  1.485888 -0.521183 -0.546460 -1.124263\n2013-01-04  1.593673  2.411398 -0.979668  1.477386\n2013-01-06  0.632588 -2.243278 -0.957501  0.143698"
     },
     "execution_count": 20,
     "metadata": {},
     "output_type": "execute_result"
    }
   ],
   "source": [
    "# 布尔索引\n",
    "df[df.A > 0]"
   ]
  },
  {
   "cell_type": "code",
   "execution_count": 21,
   "metadata": {},
   "outputs": [
    {
     "data": {
      "text/html": "<div>\n<style scoped>\n    .dataframe tbody tr th:only-of-type {\n        vertical-align: middle;\n    }\n\n    .dataframe tbody tr th {\n        vertical-align: top;\n    }\n\n    .dataframe thead th {\n        text-align: right;\n    }\n</style>\n<table border=\"1\" class=\"dataframe\">\n  <thead>\n    <tr style=\"text-align: right;\">\n      <th></th>\n      <th>A</th>\n      <th>B</th>\n      <th>C</th>\n      <th>D</th>\n    </tr>\n  </thead>\n  <tbody>\n    <tr>\n      <th>2013-01-01</th>\n      <td>1.832368</td>\n      <td>1.177498</td>\n      <td>0.638396</td>\n      <td>NaN</td>\n    </tr>\n    <tr>\n      <th>2013-01-02</th>\n      <td>1.485888</td>\n      <td>NaN</td>\n      <td>NaN</td>\n      <td>NaN</td>\n    </tr>\n    <tr>\n      <th>2013-01-03</th>\n      <td>NaN</td>\n      <td>0.124034</td>\n      <td>1.148756</td>\n      <td>NaN</td>\n    </tr>\n    <tr>\n      <th>2013-01-04</th>\n      <td>1.593673</td>\n      <td>2.411398</td>\n      <td>NaN</td>\n      <td>1.477386</td>\n    </tr>\n    <tr>\n      <th>2013-01-05</th>\n      <td>NaN</td>\n      <td>NaN</td>\n      <td>0.707605</td>\n      <td>NaN</td>\n    </tr>\n    <tr>\n      <th>2013-01-06</th>\n      <td>0.632588</td>\n      <td>NaN</td>\n      <td>NaN</td>\n      <td>0.143698</td>\n    </tr>\n  </tbody>\n</table>\n</div>",
      "text/plain": "                   A         B         C         D\n2013-01-01  1.832368  1.177498  0.638396       NaN\n2013-01-02  1.485888       NaN       NaN       NaN\n2013-01-03       NaN  0.124034  1.148756       NaN\n2013-01-04  1.593673  2.411398       NaN  1.477386\n2013-01-05       NaN       NaN  0.707605       NaN\n2013-01-06  0.632588       NaN       NaN  0.143698"
     },
     "execution_count": 21,
     "metadata": {},
     "output_type": "execute_result"
    }
   ],
   "source": [
    "# 选择 DataFrame 里满足条件的值\n",
    "df[df > 0]"
   ]
  },
  {
   "cell_type": "code",
   "execution_count": 22,
   "metadata": {},
   "outputs": [
    {
     "data": {
      "text/html": "<div>\n<style scoped>\n    .dataframe tbody tr th:only-of-type {\n        vertical-align: middle;\n    }\n\n    .dataframe tbody tr th {\n        vertical-align: top;\n    }\n\n    .dataframe thead th {\n        text-align: right;\n    }\n</style>\n<table border=\"1\" class=\"dataframe\">\n  <thead>\n    <tr style=\"text-align: right;\">\n      <th></th>\n      <th>A</th>\n      <th>B</th>\n      <th>C</th>\n      <th>D</th>\n      <th>E</th>\n    </tr>\n  </thead>\n  <tbody>\n    <tr>\n      <th>2013-01-01</th>\n      <td>1.832368</td>\n      <td>1.177498</td>\n      <td>0.638396</td>\n      <td>-0.182525</td>\n      <td>one</td>\n    </tr>\n    <tr>\n      <th>2013-01-02</th>\n      <td>1.485888</td>\n      <td>-0.521183</td>\n      <td>-0.546460</td>\n      <td>-1.124263</td>\n      <td>one</td>\n    </tr>\n    <tr>\n      <th>2013-01-03</th>\n      <td>-0.731605</td>\n      <td>0.124034</td>\n      <td>1.148756</td>\n      <td>-0.423043</td>\n      <td>two</td>\n    </tr>\n    <tr>\n      <th>2013-01-04</th>\n      <td>1.593673</td>\n      <td>2.411398</td>\n      <td>-0.979668</td>\n      <td>1.477386</td>\n      <td>three</td>\n    </tr>\n    <tr>\n      <th>2013-01-05</th>\n      <td>-0.239526</td>\n      <td>-0.492755</td>\n      <td>0.707605</td>\n      <td>-0.589724</td>\n      <td>four</td>\n    </tr>\n    <tr>\n      <th>2013-01-06</th>\n      <td>0.632588</td>\n      <td>-2.243278</td>\n      <td>-0.957501</td>\n      <td>0.143698</td>\n      <td>three</td>\n    </tr>\n  </tbody>\n</table>\n</div>",
      "text/plain": "                   A         B         C         D      E\n2013-01-01  1.832368  1.177498  0.638396 -0.182525    one\n2013-01-02  1.485888 -0.521183 -0.546460 -1.124263    one\n2013-01-03 -0.731605  0.124034  1.148756 -0.423043    two\n2013-01-04  1.593673  2.411398 -0.979668  1.477386  three\n2013-01-05 -0.239526 -0.492755  0.707605 -0.589724   four\n2013-01-06  0.632588 -2.243278 -0.957501  0.143698  three"
     },
     "execution_count": 22,
     "metadata": {},
     "output_type": "execute_result"
    }
   ],
   "source": [
    "df2 = df.copy()\n",
    "df2['E'] = ['one', 'one', 'two', 'three', 'four', 'three']\n",
    "\n",
    "df2"
   ]
  },
  {
   "cell_type": "code",
   "execution_count": 23,
   "metadata": {},
   "outputs": [
    {
     "data": {
      "text/html": "<div>\n<style scoped>\n    .dataframe tbody tr th:only-of-type {\n        vertical-align: middle;\n    }\n\n    .dataframe tbody tr th {\n        vertical-align: top;\n    }\n\n    .dataframe thead th {\n        text-align: right;\n    }\n</style>\n<table border=\"1\" class=\"dataframe\">\n  <thead>\n    <tr style=\"text-align: right;\">\n      <th></th>\n      <th>A</th>\n      <th>B</th>\n      <th>C</th>\n      <th>D</th>\n      <th>E</th>\n    </tr>\n  </thead>\n  <tbody>\n    <tr>\n      <th>2013-01-03</th>\n      <td>-0.731605</td>\n      <td>0.124034</td>\n      <td>1.148756</td>\n      <td>-0.423043</td>\n      <td>two</td>\n    </tr>\n    <tr>\n      <th>2013-01-05</th>\n      <td>-0.239526</td>\n      <td>-0.492755</td>\n      <td>0.707605</td>\n      <td>-0.589724</td>\n      <td>four</td>\n    </tr>\n  </tbody>\n</table>\n</div>",
      "text/plain": "                   A         B         C         D     E\n2013-01-03 -0.731605  0.124034  1.148756 -0.423043   two\n2013-01-05 -0.239526 -0.492755  0.707605 -0.589724  four"
     },
     "execution_count": 23,
     "metadata": {},
     "output_type": "execute_result"
    }
   ],
   "source": [
    "# 用 isin() 筛选\n",
    "df2[df2['E'].isin(['two', 'four'])]"
   ]
  },
  {
   "cell_type": "code",
   "execution_count": 24,
   "metadata": {},
   "outputs": [
    {
     "data": {
      "text/plain": "2013-01-02    1\n2013-01-03    2\n2013-01-04    3\n2013-01-05    4\n2013-01-06    5\n2013-01-07    6\nFreq: D, dtype: int64"
     },
     "execution_count": 24,
     "metadata": {},
     "output_type": "execute_result"
    }
   ],
   "source": [
    "s1 = pd.Series([1, 2, 3, 4, 5, 6], index=pd.date_range('20130102', periods=6))\n",
    "s1"
   ]
  },
  {
   "cell_type": "code",
   "execution_count": 26,
   "metadata": {},
   "outputs": [
    {
     "data": {
      "text/html": "<div>\n<style scoped>\n    .dataframe tbody tr th:only-of-type {\n        vertical-align: middle;\n    }\n\n    .dataframe tbody tr th {\n        vertical-align: top;\n    }\n\n    .dataframe thead th {\n        text-align: right;\n    }\n</style>\n<table border=\"1\" class=\"dataframe\">\n  <thead>\n    <tr style=\"text-align: right;\">\n      <th></th>\n      <th>A</th>\n      <th>B</th>\n      <th>C</th>\n      <th>D</th>\n      <th>F</th>\n    </tr>\n  </thead>\n  <tbody>\n    <tr>\n      <th>2013-01-01</th>\n      <td>1.832368</td>\n      <td>1.177498</td>\n      <td>0.638396</td>\n      <td>-0.182525</td>\n      <td>NaN</td>\n    </tr>\n    <tr>\n      <th>2013-01-02</th>\n      <td>1.485888</td>\n      <td>-0.521183</td>\n      <td>-0.546460</td>\n      <td>-1.124263</td>\n      <td>1.0</td>\n    </tr>\n    <tr>\n      <th>2013-01-03</th>\n      <td>-0.731605</td>\n      <td>0.124034</td>\n      <td>1.148756</td>\n      <td>-0.423043</td>\n      <td>2.0</td>\n    </tr>\n    <tr>\n      <th>2013-01-04</th>\n      <td>1.593673</td>\n      <td>2.411398</td>\n      <td>-0.979668</td>\n      <td>1.477386</td>\n      <td>3.0</td>\n    </tr>\n    <tr>\n      <th>2013-01-05</th>\n      <td>-0.239526</td>\n      <td>-0.492755</td>\n      <td>0.707605</td>\n      <td>-0.589724</td>\n      <td>4.0</td>\n    </tr>\n    <tr>\n      <th>2013-01-06</th>\n      <td>0.632588</td>\n      <td>-2.243278</td>\n      <td>-0.957501</td>\n      <td>0.143698</td>\n      <td>5.0</td>\n    </tr>\n  </tbody>\n</table>\n</div>",
      "text/plain": "                   A         B         C         D    F\n2013-01-01  1.832368  1.177498  0.638396 -0.182525  NaN\n2013-01-02  1.485888 -0.521183 -0.546460 -1.124263  1.0\n2013-01-03 -0.731605  0.124034  1.148756 -0.423043  2.0\n2013-01-04  1.593673  2.411398 -0.979668  1.477386  3.0\n2013-01-05 -0.239526 -0.492755  0.707605 -0.589724  4.0\n2013-01-06  0.632588 -2.243278 -0.957501  0.143698  5.0"
     },
     "execution_count": 26,
     "metadata": {},
     "output_type": "execute_result"
    }
   ],
   "source": [
    "# 赋值\n",
    "df['F'] = s1\n",
    "df"
   ]
  },
  {
   "cell_type": "code",
   "execution_count": 27,
   "metadata": {},
   "outputs": [
    {
     "data": {
      "text/html": "<div>\n<style scoped>\n    .dataframe tbody tr th:only-of-type {\n        vertical-align: middle;\n    }\n\n    .dataframe tbody tr th {\n        vertical-align: top;\n    }\n\n    .dataframe thead th {\n        text-align: right;\n    }\n</style>\n<table border=\"1\" class=\"dataframe\">\n  <thead>\n    <tr style=\"text-align: right;\">\n      <th></th>\n      <th>A</th>\n      <th>B</th>\n      <th>C</th>\n      <th>D</th>\n      <th>F</th>\n    </tr>\n  </thead>\n  <tbody>\n    <tr>\n      <th>2013-01-01</th>\n      <td>0.000000</td>\n      <td>0.000000</td>\n      <td>0.638396</td>\n      <td>5</td>\n      <td>NaN</td>\n    </tr>\n    <tr>\n      <th>2013-01-02</th>\n      <td>1.485888</td>\n      <td>-0.521183</td>\n      <td>-0.546460</td>\n      <td>5</td>\n      <td>1.0</td>\n    </tr>\n    <tr>\n      <th>2013-01-03</th>\n      <td>-0.731605</td>\n      <td>0.124034</td>\n      <td>1.148756</td>\n      <td>5</td>\n      <td>2.0</td>\n    </tr>\n    <tr>\n      <th>2013-01-04</th>\n      <td>1.593673</td>\n      <td>2.411398</td>\n      <td>-0.979668</td>\n      <td>5</td>\n      <td>3.0</td>\n    </tr>\n    <tr>\n      <th>2013-01-05</th>\n      <td>-0.239526</td>\n      <td>-0.492755</td>\n      <td>0.707605</td>\n      <td>5</td>\n      <td>4.0</td>\n    </tr>\n    <tr>\n      <th>2013-01-06</th>\n      <td>0.632588</td>\n      <td>-2.243278</td>\n      <td>-0.957501</td>\n      <td>5</td>\n      <td>5.0</td>\n    </tr>\n  </tbody>\n</table>\n</div>",
      "text/plain": "                   A         B         C  D    F\n2013-01-01  0.000000  0.000000  0.638396  5  NaN\n2013-01-02  1.485888 -0.521183 -0.546460  5  1.0\n2013-01-03 -0.731605  0.124034  1.148756  5  2.0\n2013-01-04  1.593673  2.411398 -0.979668  5  3.0\n2013-01-05 -0.239526 -0.492755  0.707605  5  4.0\n2013-01-06  0.632588 -2.243278 -0.957501  5  5.0"
     },
     "execution_count": 27,
     "metadata": {},
     "output_type": "execute_result"
    }
   ],
   "source": [
    "df.at[dates[0], 'A'] = 0\n",
    "df.iat[0, 1] = 0\n",
    "df.loc[:, 'D'] = np.array([5] * len(df))\n",
    "df"
   ]
  },
  {
   "cell_type": "code",
   "execution_count": 28,
   "metadata": {},
   "outputs": [
    {
     "data": {
      "text/html": "<div>\n<style scoped>\n    .dataframe tbody tr th:only-of-type {\n        vertical-align: middle;\n    }\n\n    .dataframe tbody tr th {\n        vertical-align: top;\n    }\n\n    .dataframe thead th {\n        text-align: right;\n    }\n</style>\n<table border=\"1\" class=\"dataframe\">\n  <thead>\n    <tr style=\"text-align: right;\">\n      <th></th>\n      <th>A</th>\n      <th>B</th>\n      <th>C</th>\n      <th>D</th>\n      <th>F</th>\n    </tr>\n  </thead>\n  <tbody>\n    <tr>\n      <th>2013-01-01</th>\n      <td>0.000000</td>\n      <td>0.000000</td>\n      <td>-0.638396</td>\n      <td>-5</td>\n      <td>NaN</td>\n    </tr>\n    <tr>\n      <th>2013-01-02</th>\n      <td>-1.485888</td>\n      <td>-0.521183</td>\n      <td>-0.546460</td>\n      <td>-5</td>\n      <td>-1.0</td>\n    </tr>\n    <tr>\n      <th>2013-01-03</th>\n      <td>-0.731605</td>\n      <td>-0.124034</td>\n      <td>-1.148756</td>\n      <td>-5</td>\n      <td>-2.0</td>\n    </tr>\n    <tr>\n      <th>2013-01-04</th>\n      <td>-1.593673</td>\n      <td>-2.411398</td>\n      <td>-0.979668</td>\n      <td>-5</td>\n      <td>-3.0</td>\n    </tr>\n    <tr>\n      <th>2013-01-05</th>\n      <td>-0.239526</td>\n      <td>-0.492755</td>\n      <td>-0.707605</td>\n      <td>-5</td>\n      <td>-4.0</td>\n    </tr>\n    <tr>\n      <th>2013-01-06</th>\n      <td>-0.632588</td>\n      <td>-2.243278</td>\n      <td>-0.957501</td>\n      <td>-5</td>\n      <td>-5.0</td>\n    </tr>\n  </tbody>\n</table>\n</div>",
      "text/plain": "                   A         B         C  D    F\n2013-01-01  0.000000  0.000000 -0.638396 -5  NaN\n2013-01-02 -1.485888 -0.521183 -0.546460 -5 -1.0\n2013-01-03 -0.731605 -0.124034 -1.148756 -5 -2.0\n2013-01-04 -1.593673 -2.411398 -0.979668 -5 -3.0\n2013-01-05 -0.239526 -0.492755 -0.707605 -5 -4.0\n2013-01-06 -0.632588 -2.243278 -0.957501 -5 -5.0"
     },
     "execution_count": 28,
     "metadata": {},
     "output_type": "execute_result"
    }
   ],
   "source": [
    "df2 = df.copy()\n",
    "df2[df2 > 0] = -df2\n",
    "df2"
   ]
  },
  {
   "cell_type": "code",
   "execution_count": null,
   "metadata": {},
   "outputs": [],
   "source": []
  }
 ]
}