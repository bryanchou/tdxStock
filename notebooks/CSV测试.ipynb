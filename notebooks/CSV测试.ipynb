{
 "cells": [
  {
   "cell_type": "code",
   "execution_count": 1,
   "metadata": {},
   "outputs": [],
   "source": [
    "from notebooks import setup\n",
    "\n",
    "setup()"
   ]
  },
  {
   "cell_type": "code",
   "execution_count": 3,
   "metadata": {},
   "outputs": [
    {
     "name": "stdout",
     "output_type": "stream",
     "text": [
      "['营业总收入(万元)', '营业收入(万元)', '利息收入(万元)', '已赚保费(万元)', '手续费及佣金收入(万元)', '房地产销售收入(万元)', '其他业务收入(万元)', '营业总成本(万元)', '营业成本(万元)', '利息支出(万元)', '手续费及佣金支出(万元)', '房地产销售成本(万元)', '研发费用(万元)', '退保金(万元)', '赔付支出净额(万元)', '提取保险合同准备金净额(万元)', '保单红利支出(万元)', '分保费用(万元)', '其他业务成本(万元)', '营业税金及附加(万元)', '销售费用(万元)', '管理费用(万元)', '财务费用(万元)', '资产减值损失(万元)', '公允价值变动收益(万元)', '投资收益(万元)', '对联营企业和合营企业的投资收益(万元)', '汇兑收益(万元)', '期货损益(万元)', '托管收益(万元)', '补贴收入(万元)', '其他业务利润(万元)', '营业利润(万元)', '营业外收入(万元)', '营业外支出(万元)', '非流动资产处置损失(万元)', '利润总额(万元)', '所得税费用(万元)', '未确认投资损失(万元)', '净利润(万元)', '归属于母公司所有者的净利润(万元)', '被合并方在合并前实现净利润(万元)', '少数股东损益(万元)', '基本每股收益', '稀释每股收益']\n"
     ]
    }
   ],
   "source": [
    "import csv\n",
    "\n",
    "fields = []\n",
    "\n",
    "with open('../fixtures/lrb600425.csv', newline='') as fp:\n",
    "    reader = csv.reader(fp)\n",
    "    header = next(reader) # 读取第一行每一列的标题\n",
    "    for row in reader:\n",
    "        fields.append(row[0])\n",
    "        \n",
    "print(fields)"
   ]
  },
  {
   "cell_type": "code",
   "execution_count": 4,
   "metadata": {},
   "outputs": [
    {
     "data": {
      "text/plain": [
       "['营业总收入',\n",
       " '营业收入',\n",
       " '利息收入',\n",
       " '已赚保费',\n",
       " '手续费及佣金收入',\n",
       " '房地产销售收入',\n",
       " '其他业务收入',\n",
       " '营业总成本',\n",
       " '营业成本',\n",
       " '利息支出',\n",
       " '手续费及佣金支出',\n",
       " '房地产销售成本',\n",
       " '研发费用',\n",
       " '退保金',\n",
       " '赔付支出净额',\n",
       " '提取保险合同准备金净额',\n",
       " '保单红利支出',\n",
       " '分保费用',\n",
       " '其他业务成本',\n",
       " '营业税金及附加',\n",
       " '销售费用',\n",
       " '管理费用',\n",
       " '财务费用',\n",
       " '资产减值损失',\n",
       " '公允价值变动收益',\n",
       " '投资收益',\n",
       " '对联营企业和合营企业的投资收益',\n",
       " '汇兑收益',\n",
       " '期货损益',\n",
       " '托管收益',\n",
       " '补贴收入',\n",
       " '其他业务利润',\n",
       " '营业利润',\n",
       " '营业外收入',\n",
       " '营业外支出',\n",
       " '非流动资产处置损失',\n",
       " '利润总额',\n",
       " '所得税费用',\n",
       " '未确认投资损失',\n",
       " '净利润',\n",
       " '归属于母公司所有者的净利润',\n",
       " '被合并方在合并前实现净利润',\n",
       " '少数股东损益',\n",
       " '基本每股收益',\n",
       " '稀释每股收益']"
      ]
     },
     "execution_count": 4,
     "metadata": {},
     "output_type": "execute_result"
    }
   ],
   "source": [
    "[field.replace('(万元)', '') for field in fields]"
   ]
  },
  {
   "cell_type": "code",
   "execution_count": 8,
   "metadata": {
    "scrolled": false
   },
   "outputs": [
    {
     "name": "stdout",
     "output_type": "stream",
     "text": [
      "营业收入\n",
      "营业成本\n",
      "公允价值变动收益\n",
      "对联营企业和合营企业的投资收益\n",
      "营业外收入\n",
      "营业外支出\n",
      "所得税费用\n",
      "少数股东损益\n"
     ]
    }
   ],
   "source": [
    "from basedata.models import AccountingSubject\n",
    "\n",
    "for field in [field.replace('(万元)', '') for field in fields]:\n",
    "    if not AccountingSubject.objects.filter(name=field).filter(report_type__slug=\"consolidated_income_sheet\").exists():\n",
    "        print(field)"
   ]
  },
  {
   "cell_type": "code",
   "execution_count": null,
   "metadata": {},
   "outputs": [],
   "source": []
  }
 ],
 "metadata": {
  "kernelspec": {
   "display_name": "Django Shell-Plus",
   "language": "python",
   "name": "django_extensions"
  },
  "language_info": {
   "codemirror_mode": {
    "name": "ipython",
    "version": 3
   },
   "file_extension": ".py",
   "mimetype": "text/x-python",
   "name": "python",
   "nbconvert_exporter": "python",
   "pygments_lexer": "ipython3",
   "version": "3.7.1"
  }
 },
 "nbformat": 4,
 "nbformat_minor": 2
}
