{
 "cells": [
  {
   "cell_type": "markdown",
   "metadata": {},
   "source": [
    "## 什么是 NumPy?\n",
    "\n",
    "NumPy 是 Python 中科学计算的基础包。它是一个 Python 库，提供多维数组对象，各种派生对象（如掩码数组和矩阵），以及用于数组快速操作的各种 API，有包括数学、逻辑、形状操作、排序、选择、输入输出、离散傅立叶变换、基本线性代数，基本统计运算和随机模拟等等。\n",
    "\n",
    "NumPy 包的核心是 `ndarray` 对象。它封装了 python 原生的同数据类型的 n 维数组，为了保证其性能优良，其中有许多操作都是代码在本地进行编译后执行的。\n",
    "\n",
    "NumPy 数组和原生 Python Array（数组）之间有几个重要的区别：\n",
    "\n",
    "+ NumPy 数组在创建时具有固定的大小，与 Python 的原生数组对象（可以动态增长）不同。更改 `ndarray` 的大小将创建一个新数组并删除原来的数组。\n",
    "+ NumPy 数组中的元素都需要具有相同的数据类型，因此在内存中的大小相同。 例外情况：Python 的原生数组里包含了 NumPy 的对象的时候，这种情况下就允许不同大小元素的数组。\n",
    "+ NumPy 数组有助于对大量数据进行高级数学和其他类型的操作。通常，这些操作的执行效率更高，比使用 Python 原生数组的代码更少。\n",
    "+ 越来越多的基于 Python 的科学和数学软件包使用 NumPy 数组; 虽然这些工具通常都支持 Python 的原生数组作为参数，但它们在处理之前会还是会将输入的数组转换为 NumPy 的数组，而且也通常输出为 NumPy 数组。换句话说，为了高效地使用当今科学/数学基于 Python 的工具（大部分的科学计算工具），你只知道如何使用 Python 的原生数组类型是不够的 - 还需要知道如何使用 NumPy 数组。\n",
    "\n",
    "关于数组大小和速度的要点在科学计算中尤为重要。举一个简单的例子，考虑将 1 维数组中的每个元素与相同长度的另一个序列中的相应元素相乘的情况。如果数据存储在两个 Python 列表 a 和 b 中，我们可以迭代每个元素，如下所示："
   ]
  },
  {
   "cell_type": "code",
   "execution_count": 3,
   "metadata": {},
   "outputs": [
    {
     "data": {
      "text/plain": [
       "[4, 10, 18]"
      ]
     },
     "execution_count": 3,
     "metadata": {},
     "output_type": "execute_result"
    }
   ],
   "source": [
    "a = [1, 2, 3]\n",
    "b = [4, 5, 6]\n",
    "\n",
    "c = []\n",
    "\n",
    "# for i, ai in enumerate(a):\n",
    "#    c.append(ai * b[i])\n",
    "\n",
    "for i in range(len(a)):\n",
    "    c.append(a[i] * b[i])\n",
    "c"
   ]
  },
  {
   "cell_type": "markdown",
   "metadata": {},
   "source": [
    "确实符合我们的要求，但如果 a 和 b 每一个都包含数以百万计的数字，我们会付出 Python 中循环的效率低下的代价。我们可以通过在 C 中写入以下代码，更快地完成相同的任务（为了清楚起见，我们忽略了变量声明和初始化，内存分配等）。\n",
    "\n",
    "```\n",
    "for (i = 0; i < rows; i++): {\n",
    "  c[i] = a[i]*b[i];\n",
    "}\n",
    "```\n",
    "\n",
    "这节省了解释 Python 代码和操作 Python 对象所涉及的所有开销，但牺牲了用 Python 编写代码所带来的好处。此外，编码工作需要增加的维度，我们的数据。例如，对于二维数组，C 代码(如前所述)会扩展为这样：\n",
    "\n",
    "```\n",
    "for (i = 0; i < rows; i++): {\n",
    "  for (j = 0; j < columns; j++): {\n",
    "    c[i][j] = a[i][j]*b[i][j];\n",
    "  }\n",
    "}\n",
    "```\n",
    "\n",
    "NumPy 为我们提供了两全其美的解决方案：当涉及到 `ndarray` 时，逐个元素的操作是“默认模式”，但逐个元素的操作由预编译的 C 代码快速执行。在 NumPy 中：\n",
    "\n",
    "```\n",
    "c = a * b\n",
    "```\n",
    "\n",
    "以近 C 速度执行前面的示例所做的事情，但是我们期望基于 Python 的代码具有简单性。的确，NumPy 的语法更为简单！最后一个例子说明了 NumPy 的两个特征，它们是 NumPy 的大部分功能的基础：矢量化和广播。\n",
    "\n",
    "\n",
    "## 为什么 NumPy 这么快？\n",
    "\n",
    "矢量化描述了代码中没有任何显式的循环，索引等 -- 这些当然是预编译的 C 代码中“幕后”优化的结果。矢量化代码有许多优点，其中包括：\n",
    "\n",
    "+ 矢量化代码更简洁，更易于阅读\n",
    "+ 更少的代码行通常意味着更少的错误\n",
    "+ 代码更接近于标准的数学符号（通常，更容易正确编码数学结构）\n",
    "+ 矢量化导致产生更多 “Pythonic” 代码。如果没有矢量化，我们的代码就会被低效且难以阅读的 for 循环所困扰。\n",
    "\n",
    "广播是用于描述操作的隐式逐元素行为的术语; 一般来说，在 NumPy 中，所有操作，不仅仅是算术运算，而是逻辑，位，功能等，都以这种隐式的逐元素方式表现，即它们进行广播。此外，在上面的例子中，a 并且 b 可以是相同形状的多维数组，或者标量和数组，或者甚至是具有不同形状的两个数组，条件是较小的数组可以“扩展”到更大的形状。结果广播明确无误的方式。有关广播的详细“规则”，请参阅 numpy.doc.broadcasting。\n",
    "\n",
    "## 还有谁在使用 NumPy？\n",
    "\n",
    "NumPy 完全支持面向对象的方法，我们再夸奖一次 `ndarray` 。 我们知道 `ndarray` 是一个类，拥有许多方法和属性。它的许多方法都由最外层的 NumPy 命名空间中的函数镜像，允许程序员在他们喜欢的范例中进行编码。这种灵活性使 NumPy 数组方言和 NumPy ndarray 类成为在 Python 中使用的多维数据交换的首选对象。\n"
   ]
  }
 ],
 "metadata": {
  "kernelspec": {
   "display_name": "Python 3",
   "language": "python",
   "name": "python3"
  },
  "language_info": {
   "codemirror_mode": {
    "name": "ipython",
    "version": 3
   },
   "file_extension": ".py",
   "mimetype": "text/x-python",
   "name": "python",
   "nbconvert_exporter": "python",
   "pygments_lexer": "ipython3",
   "version": "3.7.1"
  },
  "toc": {
   "base_numbering": 1,
   "nav_menu": {},
   "number_sections": true,
   "sideBar": true,
   "skip_h1_title": false,
   "title_cell": "Table of Contents",
   "title_sidebar": "Contents",
   "toc_cell": false,
   "toc_position": {
    "height": "calc(100% - 180px)",
    "left": "10px",
    "top": "150px",
    "width": "288px"
   },
   "toc_section_display": true,
   "toc_window_display": true
  }
 },
 "nbformat": 4,
 "nbformat_minor": 2
}
